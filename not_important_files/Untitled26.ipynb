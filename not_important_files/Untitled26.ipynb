{
 "cells": [
  {
   "cell_type": "code",
   "execution_count": 56,
   "metadata": {},
   "outputs": [
    {
     "data": {
      "text/html": [
       "<div>\n",
       "<style scoped>\n",
       "    .dataframe tbody tr th:only-of-type {\n",
       "        vertical-align: middle;\n",
       "    }\n",
       "\n",
       "    .dataframe tbody tr th {\n",
       "        vertical-align: top;\n",
       "    }\n",
       "\n",
       "    .dataframe thead th {\n",
       "        text-align: right;\n",
       "    }\n",
       "</style>\n",
       "<table border=\"1\" class=\"dataframe\">\n",
       "  <thead>\n",
       "    <tr style=\"text-align: right;\">\n",
       "      <th></th>\n",
       "      <th>Longitude</th>\n",
       "      <th>Latitude</th>\n",
       "      <th>Time</th>\n",
       "      <th>Magnitude</th>\n",
       "      <th>Depth/Km</th>\n",
       "      <th>MagType</th>\n",
       "    </tr>\n",
       "  </thead>\n",
       "  <tbody>\n",
       "    <tr>\n",
       "      <th>0</th>\n",
       "      <td>7.17400</td>\n",
       "      <td>46.1580</td>\n",
       "      <td>1985-01-04 16:57:40.240</td>\n",
       "      <td>3.8</td>\n",
       "      <td>1.000000e+01</td>\n",
       "      <td>'M'</td>\n",
       "    </tr>\n",
       "    <tr>\n",
       "      <th>1</th>\n",
       "      <td>6.64100</td>\n",
       "      <td>45.3380</td>\n",
       "      <td>1985-01-04 23:59:54.820</td>\n",
       "      <td>3.7</td>\n",
       "      <td>5.000000e+00</td>\n",
       "      <td>'M'</td>\n",
       "    </tr>\n",
       "    <tr>\n",
       "      <th>2</th>\n",
       "      <td>6.62700</td>\n",
       "      <td>45.4090</td>\n",
       "      <td>1985-01-05 03:47:03.640</td>\n",
       "      <td>3.2</td>\n",
       "      <td>1.000000e+01</td>\n",
       "      <td>'M'</td>\n",
       "    </tr>\n",
       "    <tr>\n",
       "      <th>3</th>\n",
       "      <td>16.76500</td>\n",
       "      <td>39.2910</td>\n",
       "      <td>1985-01-06 17:22:58.540</td>\n",
       "      <td>3.0</td>\n",
       "      <td>5.000000e+00</td>\n",
       "      <td>'Md'</td>\n",
       "    </tr>\n",
       "    <tr>\n",
       "      <th>4</th>\n",
       "      <td>12.73000</td>\n",
       "      <td>43.2250</td>\n",
       "      <td>1985-01-07 00:34:49.290</td>\n",
       "      <td>3.0</td>\n",
       "      <td>1.000000e+01</td>\n",
       "      <td>'Md'</td>\n",
       "    </tr>\n",
       "    <tr>\n",
       "      <th>...</th>\n",
       "      <td>...</td>\n",
       "      <td>...</td>\n",
       "      <td>...</td>\n",
       "      <td>...</td>\n",
       "      <td>...</td>\n",
       "      <td>...</td>\n",
       "    </tr>\n",
       "    <tr>\n",
       "      <th>7717</th>\n",
       "      <td>14.60980</td>\n",
       "      <td>37.7413</td>\n",
       "      <td>2020-04-25 00:40:02.630</td>\n",
       "      <td>3.2</td>\n",
       "      <td>2.600000e+01</td>\n",
       "      <td>'ML'</td>\n",
       "    </tr>\n",
       "    <tr>\n",
       "      <th>7718</th>\n",
       "      <td>14.61750</td>\n",
       "      <td>37.7523</td>\n",
       "      <td>2020-04-25 07:21:54.480</td>\n",
       "      <td>3.4</td>\n",
       "      <td>2.350000e+14</td>\n",
       "      <td>'ML'</td>\n",
       "    </tr>\n",
       "    <tr>\n",
       "      <th>7719</th>\n",
       "      <td>14.15167</td>\n",
       "      <td>40.8285</td>\n",
       "      <td>2020-04-26 02:59:02.450</td>\n",
       "      <td>3.1</td>\n",
       "      <td>2.500000e+14</td>\n",
       "      <td>'Md'</td>\n",
       "    </tr>\n",
       "    <tr>\n",
       "      <th>7720</th>\n",
       "      <td>13.60600</td>\n",
       "      <td>38.4052</td>\n",
       "      <td>2020-04-28 05:57:28.820</td>\n",
       "      <td>3.1</td>\n",
       "      <td>2.540000e+14</td>\n",
       "      <td>'ML'</td>\n",
       "    </tr>\n",
       "    <tr>\n",
       "      <th>7721</th>\n",
       "      <td>14.17220</td>\n",
       "      <td>38.5943</td>\n",
       "      <td>2020-04-28 07:14:45.750</td>\n",
       "      <td>3.0</td>\n",
       "      <td>2.750000e+14</td>\n",
       "      <td>'ML'</td>\n",
       "    </tr>\n",
       "  </tbody>\n",
       "</table>\n",
       "<p>7722 rows × 6 columns</p>\n",
       "</div>"
      ],
      "text/plain": [
       "      Longitude  Latitude                    Time  Magnitude      Depth/Km  \\\n",
       "0       7.17400   46.1580 1985-01-04 16:57:40.240        3.8  1.000000e+01   \n",
       "1       6.64100   45.3380 1985-01-04 23:59:54.820        3.7  5.000000e+00   \n",
       "2       6.62700   45.4090 1985-01-05 03:47:03.640        3.2  1.000000e+01   \n",
       "3      16.76500   39.2910 1985-01-06 17:22:58.540        3.0  5.000000e+00   \n",
       "4      12.73000   43.2250 1985-01-07 00:34:49.290        3.0  1.000000e+01   \n",
       "...         ...       ...                     ...        ...           ...   \n",
       "7717   14.60980   37.7413 2020-04-25 00:40:02.630        3.2  2.600000e+01   \n",
       "7718   14.61750   37.7523 2020-04-25 07:21:54.480        3.4  2.350000e+14   \n",
       "7719   14.15167   40.8285 2020-04-26 02:59:02.450        3.1  2.500000e+14   \n",
       "7720   13.60600   38.4052 2020-04-28 05:57:28.820        3.1  2.540000e+14   \n",
       "7721   14.17220   38.5943 2020-04-28 07:14:45.750        3.0  2.750000e+14   \n",
       "\n",
       "     MagType  \n",
       "0        'M'  \n",
       "1        'M'  \n",
       "2        'M'  \n",
       "3       'Md'  \n",
       "4       'Md'  \n",
       "...      ...  \n",
       "7717    'ML'  \n",
       "7718    'ML'  \n",
       "7719    'Md'  \n",
       "7720    'ML'  \n",
       "7721    'ML'  \n",
       "\n",
       "[7722 rows x 6 columns]"
      ]
     },
     "execution_count": 56,
     "metadata": {},
     "output_type": "execute_result"
    }
   ],
   "source": [
    "import numpy as np\n",
    "import pandas as pd\n",
    "import matplotlib.pyplot as plt\n",
    "import seaborn as sns\n",
    "import datetime\n",
    "import warnings\n",
    "a=pd.read_excel(r\"C:\\\\Users\\Ogeid99\\Desktop\\cataloguess\\lat_long_declust_magn_greaterthan3.xlsx\",sep='|',header=None)\n",
    "a.rename(columns={1:'Latitude',0:'Longitude', 4:'Depth/Km', 3:'Magnitude', 5:'MagType', 2:'Time'}, inplace=True)\n",
    "#data cleaning\n",
    "from datetime import datetime\n",
    "time_plot=a['Time']\n",
    "function=lambda x: x.replace(\"'\",\"\") #replace \"'\" with ' '\n",
    "datetime_object = lambda x: datetime.strptime(x, '%Y-%m-%d %H:%M:%S.%f')\n",
    "split_object=lambda i: i.replace(\"T\",\" \") #for i in time_plot\n",
    "time_plot=time_plot.map(function)\n",
    "time_plot=time_plot.map(split_object)\n",
    "time_plot=time_plot.map(datetime_object)\n",
    "#time_plot=time_plot.to_datetime() #.astype(np.datetime64) \n",
    "a['Time']=time_plot\n",
    "list_magn=[]\n",
    "mag=a['Magnitude']\n",
    "long=a['Longitude']\n",
    "list_long=[]\n",
    "Lat=a['Latitude']\n",
    "Lat=[i/10000000000000 for i in Lat]\n",
    "for j in mag:\n",
    "    if j >20:\n",
    "        j=j/100000000000000\n",
    "        list_magn.append(j)\n",
    "    else:\n",
    "        j=float(str(j))\n",
    "        list_magn.append(j)\n",
    "for k in long:\n",
    "    k=k/10000000000000\n",
    "    if k <40.0:\n",
    "        list_long.append(k)\n",
    "    else:\n",
    "        k=k/10\n",
    "        list_long.append(k)\n",
    "a['Magnitude']=list_magn\n",
    "a['Longitude']=list_long\n",
    "a['Latitude']=Lat\n",
    "a"
   ]
  },
  {
   "cell_type": "code",
   "execution_count": 57,
   "metadata": {},
   "outputs": [
    {
     "data": {
      "text/plain": [
       "0      1985-01-04 16:57:40.240\n",
       "1      1985-01-04 23:59:54.820\n",
       "2      1985-01-05 03:47:03.640\n",
       "3      1985-01-06 17:22:58.540\n",
       "4      1985-01-07 00:34:49.290\n",
       "                 ...          \n",
       "7717   2020-04-25 00:40:02.630\n",
       "7718   2020-04-25 07:21:54.480\n",
       "7719   2020-04-26 02:59:02.450\n",
       "7720   2020-04-28 05:57:28.820\n",
       "7721   2020-04-28 07:14:45.750\n",
       "Name: Time, Length: 7722, dtype: datetime64[ns]"
      ]
     },
     "execution_count": 57,
     "metadata": {},
     "output_type": "execute_result"
    }
   ],
   "source": [
    "df=a\n",
    "a['Time']"
   ]
  },
  {
   "cell_type": "code",
   "execution_count": 135,
   "metadata": {},
   "outputs": [
    {
     "data": {
      "text/plain": [
       "(Power_divergenceResult(statistic=207.8621940163191, pvalue=7.659532873798535e-44),\n",
       " 217.78468383392018,\n",
       " 4)"
      ]
     },
     "execution_count": 135,
     "metadata": {},
     "output_type": "execute_result"
    }
   ],
   "source": [
    "import datetime\n",
    "from ipykernel import kernelapp as app\n",
    "from math import sqrt\n",
    "#tt=3600*24*365*10\n",
    "a=df[(df['Magnitude']>)& (df['Time']>datetime.datetime(1985,1,1,1,1))& (df['Time']<datetime.datetime(2020,4,30,1,1,1))]\n",
    "starting_time1=a['Time'].iloc[0]\n",
    "end_time1=a['Time'].iloc[len(a.index)-1]\n",
    "tot_time=int((end_time1-starting_time1).total_seconds())\n",
    "interv=5\n",
    "interv_time=tot_time/interv\n",
    "events_interval=[]\n",
    "diff_value=[]\n",
    "for i in range(len(a.index)):\n",
    "    diff=(a['Time'].iloc[i]-starting_time1).total_seconds()\n",
    "    diff_value.append(diff)\n",
    "a['Diff_time']=diff_value\n",
    "cnt=0\n",
    "while cnt <interv:  #890\n",
    "    condition=a[(a['Diff_time']>=(interv_time*cnt))&(a['Diff_time']<(interv_time*(cnt+1)))].loc[:,'Diff_time']\n",
    "    condition1=condition.to_list()\n",
    "    events_interval.append(condition1)\n",
    "    cnt+=1\n",
    "number_time=pd.DataFrame(events_interval)\n",
    "number_time_count=number_time.count(axis=1)\n",
    "import random\n",
    "nt=number_time_count.to_numpy()\n",
    "lamb=sum(nt)/len(nt)\n",
    "chi_cc=[]\n",
    "lamb_list=[]\n",
    "for i in range(interv):\n",
    "    lamb_list.append(lamb)\n",
    "cc=chisquare(nt,lamb_list)\n",
    "var_list=[]\n",
    "Yk_list=[]\n",
    "for b in nt:\n",
    "    Yk=sqrt(b+3/8)\n",
    "    Yk_list.append(Yk)\n",
    "Y=(sum(Yk_list)/len(nt))\n",
    "for yk in Yk_list:\n",
    "    var=(yk-Y)**2\n",
    "    var_list.append(var)\n",
    "bz=4*sum(var_list)\n",
    "cc,bz,len(nt)-1"
   ]
  },
  {
   "cell_type": "code",
   "execution_count": 91,
   "metadata": {},
   "outputs": [
    {
     "data": {
      "text/plain": [
       "6196    8.041682e+08\n",
       "6989    9.386914e+08\n",
       "7028    9.443738e+08\n",
       "7031    9.444984e+08\n",
       "Name: Diff_time, dtype: float64"
      ]
     },
     "execution_count": 91,
     "metadata": {},
     "output_type": "execute_result"
    }
   ],
   "source": [
    "condition\n"
   ]
  },
  {
   "cell_type": "code",
   "execution_count": 94,
   "metadata": {},
   "outputs": [
    {
     "data": {
      "text/plain": [
       "6989    9.386914e+08\n",
       "7028    9.443738e+08\n",
       "7031    9.444984e+08\n",
       "7113    9.514233e+08\n",
       "Name: Diff_time, dtype: float64"
      ]
     },
     "execution_count": 94,
     "metadata": {},
     "output_type": "execute_result"
    }
   ],
   "source": [
    "condition"
   ]
  },
  {
   "cell_type": "code",
   "execution_count": 96,
   "metadata": {},
   "outputs": [
    {
     "data": {
      "text/plain": [
       "208289756.4"
      ]
     },
     "execution_count": 96,
     "metadata": {},
     "output_type": "execute_result"
    }
   ],
   "source": [
    "interv_time"
   ]
  },
  {
   "cell_type": "code",
   "execution_count": 98,
   "metadata": {},
   "outputs": [
    {
     "data": {
      "text/plain": [
       "190284653.2"
      ]
     },
     "execution_count": 98,
     "metadata": {},
     "output_type": "execute_result"
    }
   ],
   "source": [
    "interv_time"
   ]
  },
  {
   "cell_type": "code",
   "execution_count": null,
   "metadata": {},
   "outputs": [],
   "source": []
  }
 ],
 "metadata": {
  "kernelspec": {
   "display_name": "Python 3",
   "language": "python",
   "name": "python3"
  },
  "language_info": {
   "codemirror_mode": {
    "name": "ipython",
    "version": 3
   },
   "file_extension": ".py",
   "mimetype": "text/x-python",
   "name": "python",
   "nbconvert_exporter": "python",
   "pygments_lexer": "ipython3",
   "version": "3.7.6"
  }
 },
 "nbformat": 4,
 "nbformat_minor": 4
}
