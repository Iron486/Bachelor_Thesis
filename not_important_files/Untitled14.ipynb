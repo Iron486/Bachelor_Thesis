{
 "cells": [
  {
   "cell_type": "code",
   "execution_count": 68,
   "metadata": {},
   "outputs": [
    {
     "data": {
      "text/html": [
       "<div>\n",
       "<style scoped>\n",
       "    .dataframe tbody tr th:only-of-type {\n",
       "        vertical-align: middle;\n",
       "    }\n",
       "\n",
       "    .dataframe tbody tr th {\n",
       "        vertical-align: top;\n",
       "    }\n",
       "\n",
       "    .dataframe thead th {\n",
       "        text-align: right;\n",
       "    }\n",
       "</style>\n",
       "<table border=\"1\" class=\"dataframe\">\n",
       "  <thead>\n",
       "    <tr style=\"text-align: right;\">\n",
       "      <th></th>\n",
       "      <th>#EventID</th>\n",
       "      <th>Time</th>\n",
       "      <th>Latitude</th>\n",
       "      <th>Longitude</th>\n",
       "      <th>Depth/Km</th>\n",
       "      <th>Author</th>\n",
       "      <th>Catalog</th>\n",
       "      <th>Contributor</th>\n",
       "      <th>ContributorID</th>\n",
       "      <th>MagType</th>\n",
       "      <th>Magnitude</th>\n",
       "      <th>MagAuthor</th>\n",
       "      <th>EventLocationName</th>\n",
       "    </tr>\n",
       "  </thead>\n",
       "  <tbody>\n",
       "    <tr>\n",
       "      <th>0</th>\n",
       "      <td>79</td>\n",
       "      <td>1985-01-02 22:58:04.594130</td>\n",
       "      <td>41.7150</td>\n",
       "      <td>13.9410</td>\n",
       "      <td>5.8</td>\n",
       "      <td>BULLETIN-VAX</td>\n",
       "      <td>NaN</td>\n",
       "      <td>NaN</td>\n",
       "      <td>NaN</td>\n",
       "      <td>Md</td>\n",
       "      <td>2.6</td>\n",
       "      <td>--</td>\n",
       "      <td>6 km S Civitella Alfedena (AQ)</td>\n",
       "    </tr>\n",
       "    <tr>\n",
       "      <th>1</th>\n",
       "      <td>89</td>\n",
       "      <td>1985-01-03 00:46:38.494130</td>\n",
       "      <td>41.6770</td>\n",
       "      <td>13.9310</td>\n",
       "      <td>6.1</td>\n",
       "      <td>BULLETIN-VAX</td>\n",
       "      <td>NaN</td>\n",
       "      <td>NaN</td>\n",
       "      <td>NaN</td>\n",
       "      <td>Md</td>\n",
       "      <td>2.5</td>\n",
       "      <td>--</td>\n",
       "      <td>6 km NE Picinisco (FR)</td>\n",
       "    </tr>\n",
       "    <tr>\n",
       "      <th>2</th>\n",
       "      <td>199</td>\n",
       "      <td>1985-01-04 16:58:01.744130</td>\n",
       "      <td>46.1580</td>\n",
       "      <td>7.1740</td>\n",
       "      <td>10.0</td>\n",
       "      <td>BULLETIN-VAX</td>\n",
       "      <td>NaN</td>\n",
       "      <td>NaN</td>\n",
       "      <td>NaN</td>\n",
       "      <td>M</td>\n",
       "      <td>3.8</td>\n",
       "      <td>--</td>\n",
       "      <td>Confine Italia-Svizzera (SVIZZERA)</td>\n",
       "    </tr>\n",
       "    <tr>\n",
       "      <th>3</th>\n",
       "      <td>229</td>\n",
       "      <td>1985-01-05 00:00:16.324130</td>\n",
       "      <td>45.3380</td>\n",
       "      <td>6.6410</td>\n",
       "      <td>5.0</td>\n",
       "      <td>BULLETIN-VAX</td>\n",
       "      <td>NaN</td>\n",
       "      <td>NaN</td>\n",
       "      <td>NaN</td>\n",
       "      <td>M</td>\n",
       "      <td>3.7</td>\n",
       "      <td>--</td>\n",
       "      <td>Confine Italia-Francia (FRANCIA)</td>\n",
       "    </tr>\n",
       "    <tr>\n",
       "      <th>4</th>\n",
       "      <td>239</td>\n",
       "      <td>1985-01-05 03:47:25.144130</td>\n",
       "      <td>45.4090</td>\n",
       "      <td>6.6270</td>\n",
       "      <td>10.0</td>\n",
       "      <td>BULLETIN-VAX</td>\n",
       "      <td>NaN</td>\n",
       "      <td>NaN</td>\n",
       "      <td>NaN</td>\n",
       "      <td>M</td>\n",
       "      <td>3.2</td>\n",
       "      <td>--</td>\n",
       "      <td>Confine Italia-Francia (FRANCIA)</td>\n",
       "    </tr>\n",
       "    <tr>\n",
       "      <th>...</th>\n",
       "      <td>...</td>\n",
       "      <td>...</td>\n",
       "      <td>...</td>\n",
       "      <td>...</td>\n",
       "      <td>...</td>\n",
       "      <td>...</td>\n",
       "      <td>...</td>\n",
       "      <td>...</td>\n",
       "      <td>...</td>\n",
       "      <td>...</td>\n",
       "      <td>...</td>\n",
       "      <td>...</td>\n",
       "      <td>...</td>\n",
       "    </tr>\n",
       "    <tr>\n",
       "      <th>181772</th>\n",
       "      <td>24334191</td>\n",
       "      <td>2020-04-29 11:17:45.674130</td>\n",
       "      <td>45.9167</td>\n",
       "      <td>12.1917</td>\n",
       "      <td>10.1</td>\n",
       "      <td>SURVEY-INGV</td>\n",
       "      <td>NaN</td>\n",
       "      <td>NaN</td>\n",
       "      <td>NaN</td>\n",
       "      <td>ML</td>\n",
       "      <td>1.7</td>\n",
       "      <td>--</td>\n",
       "      <td>2 km SW Refrontolo (TV)</td>\n",
       "    </tr>\n",
       "    <tr>\n",
       "      <th>181773</th>\n",
       "      <td>24335541</td>\n",
       "      <td>2020-04-29 14:15:09.474130</td>\n",
       "      <td>38.4090</td>\n",
       "      <td>13.5617</td>\n",
       "      <td>28.2</td>\n",
       "      <td>SURVEY-INGV</td>\n",
       "      <td>NaN</td>\n",
       "      <td>NaN</td>\n",
       "      <td>NaN</td>\n",
       "      <td>ML</td>\n",
       "      <td>2.3</td>\n",
       "      <td>--</td>\n",
       "      <td>Costa Siciliana centro-settentrionale (Palermo)</td>\n",
       "    </tr>\n",
       "    <tr>\n",
       "      <th>181774</th>\n",
       "      <td>24336421</td>\n",
       "      <td>2020-04-29 16:24:01.514130</td>\n",
       "      <td>42.8882</td>\n",
       "      <td>13.0363</td>\n",
       "      <td>10.0</td>\n",
       "      <td>SURVEY-INGV</td>\n",
       "      <td>NaN</td>\n",
       "      <td>NaN</td>\n",
       "      <td>NaN</td>\n",
       "      <td>ML</td>\n",
       "      <td>1.8</td>\n",
       "      <td>--</td>\n",
       "      <td>1 km N Preci (PG)</td>\n",
       "    </tr>\n",
       "    <tr>\n",
       "      <th>181775</th>\n",
       "      <td>24336481</td>\n",
       "      <td>2020-04-29 16:30:36.354130</td>\n",
       "      <td>37.7683</td>\n",
       "      <td>14.6293</td>\n",
       "      <td>38.0</td>\n",
       "      <td>SURVEY-INGV</td>\n",
       "      <td>NaN</td>\n",
       "      <td>NaN</td>\n",
       "      <td>NaN</td>\n",
       "      <td>ML</td>\n",
       "      <td>2.2</td>\n",
       "      <td>--</td>\n",
       "      <td>3 km SE Troina (EN)</td>\n",
       "    </tr>\n",
       "    <tr>\n",
       "      <th>181776</th>\n",
       "      <td>24337031</td>\n",
       "      <td>2020-04-29 19:21:21.794130</td>\n",
       "      <td>37.8797</td>\n",
       "      <td>12.9638</td>\n",
       "      <td>10.0</td>\n",
       "      <td>SURVEY-INGV</td>\n",
       "      <td>NaN</td>\n",
       "      <td>NaN</td>\n",
       "      <td>NaN</td>\n",
       "      <td>ML</td>\n",
       "      <td>1.6</td>\n",
       "      <td>--</td>\n",
       "      <td>10 km E Calatafimi-Segesta (TP)</td>\n",
       "    </tr>\n",
       "  </tbody>\n",
       "</table>\n",
       "<p>181777 rows × 13 columns</p>\n",
       "</div>"
      ],
      "text/plain": [
       "        #EventID                        Time  Latitude  Longitude  Depth/Km  \\\n",
       "0             79  1985-01-02 22:58:04.594130   41.7150    13.9410       5.8   \n",
       "1             89  1985-01-03 00:46:38.494130   41.6770    13.9310       6.1   \n",
       "2            199  1985-01-04 16:58:01.744130   46.1580     7.1740      10.0   \n",
       "3            229  1985-01-05 00:00:16.324130   45.3380     6.6410       5.0   \n",
       "4            239  1985-01-05 03:47:25.144130   45.4090     6.6270      10.0   \n",
       "...          ...                         ...       ...        ...       ...   \n",
       "181772  24334191  2020-04-29 11:17:45.674130   45.9167    12.1917      10.1   \n",
       "181773  24335541  2020-04-29 14:15:09.474130   38.4090    13.5617      28.2   \n",
       "181774  24336421  2020-04-29 16:24:01.514130   42.8882    13.0363      10.0   \n",
       "181775  24336481  2020-04-29 16:30:36.354130   37.7683    14.6293      38.0   \n",
       "181776  24337031  2020-04-29 19:21:21.794130   37.8797    12.9638      10.0   \n",
       "\n",
       "              Author  Catalog  Contributor  ContributorID MagType  Magnitude  \\\n",
       "0       BULLETIN-VAX      NaN          NaN            NaN      Md        2.6   \n",
       "1       BULLETIN-VAX      NaN          NaN            NaN      Md        2.5   \n",
       "2       BULLETIN-VAX      NaN          NaN            NaN       M        3.8   \n",
       "3       BULLETIN-VAX      NaN          NaN            NaN       M        3.7   \n",
       "4       BULLETIN-VAX      NaN          NaN            NaN       M        3.2   \n",
       "...              ...      ...          ...            ...     ...        ...   \n",
       "181772   SURVEY-INGV      NaN          NaN            NaN      ML        1.7   \n",
       "181773   SURVEY-INGV      NaN          NaN            NaN      ML        2.3   \n",
       "181774   SURVEY-INGV      NaN          NaN            NaN      ML        1.8   \n",
       "181775   SURVEY-INGV      NaN          NaN            NaN      ML        2.2   \n",
       "181776   SURVEY-INGV      NaN          NaN            NaN      ML        1.6   \n",
       "\n",
       "       MagAuthor                                EventLocationName  \n",
       "0             --                   6 km S Civitella Alfedena (AQ)  \n",
       "1             --                           6 km NE Picinisco (FR)  \n",
       "2             --               Confine Italia-Svizzera (SVIZZERA)  \n",
       "3             --                 Confine Italia-Francia (FRANCIA)  \n",
       "4             --                 Confine Italia-Francia (FRANCIA)  \n",
       "...          ...                                              ...  \n",
       "181772        --                          2 km SW Refrontolo (TV)  \n",
       "181773        --  Costa Siciliana centro-settentrionale (Palermo)  \n",
       "181774        --                                1 km N Preci (PG)  \n",
       "181775        --                              3 km SE Troina (EN)  \n",
       "181776        --                  10 km E Calatafimi-Segesta (TP)  \n",
       "\n",
       "[181777 rows x 13 columns]"
      ]
     },
     "execution_count": 68,
     "metadata": {},
     "output_type": "execute_result"
    }
   ],
   "source": [
    "import numpy as np\n",
    "import pandas as pd\n",
    "import matplotlib.pyplot as plt\n",
    "import seaborn as sns\n",
    "import datetime\n",
    "import warnings\n",
    "import pandas as pd\n",
    "DATA=pd.read_csv(r\"C:\\\\Users\\Ogeid99\\Desktop\\cataloguess\\DATA.csv\")\n",
    "DATA"
   ]
  },
  {
   "cell_type": "code",
   "execution_count": 4,
   "metadata": {},
   "outputs": [
    {
     "data": {
      "text/plain": [
       "0         1985-01-02 22:58:04.594130\n",
       "1         1985-01-03 00:46:38.494130\n",
       "2         1985-01-04 16:58:01.744130\n",
       "3         1985-01-05 00:00:16.324130\n",
       "4         1985-01-05 03:47:25.144130\n",
       "                     ...            \n",
       "181772    2020-04-29 11:17:45.674130\n",
       "181773    2020-04-29 14:15:09.474130\n",
       "181774    2020-04-29 16:24:01.514130\n",
       "181775    2020-04-29 16:30:36.354130\n",
       "181776    2020-04-29 19:21:21.794130\n",
       "Name: Time, Length: 181777, dtype: object"
      ]
     },
     "execution_count": 4,
     "metadata": {},
     "output_type": "execute_result"
    }
   ],
   "source": []
  },
  {
   "cell_type": "code",
   "execution_count": 79,
   "metadata": {},
   "outputs": [
    {
     "data": {
      "text/plain": [
       "(1.3, 6.7)"
      ]
     },
     "execution_count": 79,
     "metadata": {},
     "output_type": "execute_result"
    },
    {
     "data": {
      "image/png": "[encoded data removed]",
      "text/plain": [
       "<Figure size 432x288 with 1 Axes>"
      ]
     },
     "metadata": {
      "needs_background": "light"
     },
     "output_type": "display_data"
    }
   ],
   "source": [
    "import math\n",
    "binning=0.2\n",
    "Mmin=2.1\n",
    "#evaluation of maximum likelihood B^\n",
    "magnitude=DATA['Magnitude']\n",
    "#b=math.log10(math.exp(1)/(np.mean(magnitude)-(Mmin-binning/2)))\n",
    "#b=math.log(1/(np.mean(magnitude)-(Mmin-binning/2))(math.log(10)) according to 'a non robust method to estimate the b value'\n",
    "#plot Gutemberg-Richter\n",
    "list_1=pd.Series([1 for i in range(181777)],name='1' )\n",
    "bin_magnitude=pd.Series(np.array(np.arange(np.min(magnitude),np.max(magnitude)+0.2,0.2)))\n",
    "bin_magnitude=pd.Series(np.array(np.arange(np.min(magnitude),np.max(magnitude)+0.2,0.2)))\n",
    "number_of_earthquakes= pd.Series(np.array([np.count_nonzero((magnitude >= i ) & (magnitude <= i+0.2))\n",
    "                                           for i in bin_magnitude]))\n",
    "bin_magnitude=np.add(bin_magnitude,0.1)\n",
    "df1=pd.concat([bin_magnitude,number_of_earthquakes],axis=1)\n",
    "df1.columns=['bin_magnitude','number_of_earthquakes']\n",
    "\n",
    "plot=sns.scatterplot(x='bin_magnitude',y='number_of_earthquakes',data=df1)\n",
    "plt.yscale('log')# an alternative:  plot.set(yscale=\"log\")\n",
    "plt.ylim((0.7, 200000)) # DO NOT put 0 or negative values 'cause there is a log scale\n",
    "plt.xlim((1.3, 6.7)) \n",
    "#explain influence of old catalogues"
   ]
  },
  {
   "cell_type": "code",
   "execution_count": 153,
   "metadata": {},
   "outputs": [
    {
     "data": {
      "image/png": "[encoded data removed]",
      "text/plain": [
       "<Figure size 720x504 with 1 Axes>"
      ]
     },
     "metadata": {
      "needs_background": "light"
     },
     "output_type": "display_data"
    }
   ],
   "source": [
    "a_value=7.4\n",
    "b=1.2\n",
    "#b=math.log(1/((np.mean(magnitude)-(Mmin-binning/2))*(math.log(10))))# according to 'a non robust method to estimate the b value'\n",
    "#b=math.log10(math.exp(1)/(np.mean(magnitude)-(Mmin-binning/2)))\n",
    "Gutemberg_Richter=np.power(10,a_value-b*bin_magnitude) #here you can consider b or not\n",
    "plt.figure(figsize=(10,7))\n",
    "plot=sns.scatterplot(x='bin_magnitude',y='number_of_earthquakes',data=df1,s=66)\n",
    "plt.yscale('log')# an alternative:  plot.set(yscale=\"log\")\n",
    "plt.ylim((0.7, 200000)) # DO NOT put 0 or negative values 'cause there is a log scale\n",
    "plt.plot(bin_magnitude,Gutemberg_Richter)\n",
    "plt.xlabel('Number of earthquakes',fontsize=20) #set font and title of x label\n",
    "plt.ylabel('Magnitude',fontsize=20) #set font and title of y label\n",
    "plt.tick_params(labelsize=12)"
   ]
  },
  {
   "cell_type": "code",
   "execution_count": 155,
   "metadata": {},
   "outputs": [
    {
     "data": {
      "text/plain": [
       "[<matplotlib.lines.Line2D at 0x1ed0ed79e48>]"
      ]
     },
     "execution_count": 155,
     "metadata": {},
     "output_type": "execute_result"
    },
    {
     "data": {
      "image/png": "[encoded data removed]",
      "text/plain": [
       "<Figure size 720x504 with 1 Axes>"
      ]
     },
     "metadata": {
      "needs_background": "light"
     },
     "output_type": "display_data"
    }
   ],
   "source": [
    "list_1=pd.Series([1 for i in range(181777)],name='1' )\n",
    "a_value_cum=7.64\n",
    "#another method\n",
    "DATA_with_one=pd.concat(  [DATA,list_1],axis=1 )  \n",
    "\n",
    "grouped=DATA_with_one.iloc[:,13].groupby(DATA['Magnitude'])\n",
    "DATA['Magnitude'].sort_values(ascending=False) \n",
    "grouped_DATA_Magnitude=grouped.sum()\n",
    "index_grouped_DATA_Magnitude=grouped_DATA_Magnitude.index\n",
    "Gutemberg_Richter_cum=np.power(10,a_value_cum-b*bin_magnitude)\n",
    "cum_series=pd.Series(np.add.accumulate(grouped_DATA_Magnitude.sort_index(ascending=False)))\n",
    "#cum_ser_bin=[]\n",
    "#for i in cum_series:\n",
    "#    if\n",
    "#    cum_ser_bin.append(i)\n",
    "cum_series_1=[]\n",
    "cum_series_1_index=[]\n",
    "k=1\n",
    "for i,z in zip(cum_series.index,cum_series):\n",
    "    if k%2!=0 and k>2:\n",
    "        pass\n",
    "    else:\n",
    "        cum_series_1_index.append([i])\n",
    "        cum_series_1.append([z])\n",
    "    k+=1\n",
    "plt.figure(figsize=(10,7))    \n",
    "plot=plt.scatter(cum_series_1_index,cum_series_1,s=46,color='red')\n",
    "plt.yscale('log')# an alternative:  plot.set(yscale=\"log\")\n",
    "plt.ylim((0.7, 600000)) # DO NOT put 0 or negative values 'cause there is a log scale\n",
    "plt.plot(bin_magnitude,Gutemberg_Richter_cum,color='red')\n",
    "plt.xlabel('Number of earthquakes',fontsize=20) #set font and title of x label\n",
    "plt.ylabel('Magnitude',fontsize=20) #set font and title of y label\n",
    "plt.tick_params(labelsize=12)\n",
    "plot=sns.scatterplot(x='bin_magnitude',y='number_of_earthquakes',data=df1,s=66)\n",
    "plt.plot(bin_magnitude,Gutemberg_Richter)"
   ]
  },
  {
   "cell_type": "code",
   "execution_count": 122,
   "metadata": {},
   "outputs": [
    {
     "data": {
      "text/plain": [
       "1"
      ]
     },
     "execution_count": 122,
     "metadata": {},
     "output_type": "execute_result"
    }
   ],
   "source": [
    "13%2"
   ]
  },
  {
   "cell_type": "code",
   "execution_count": null,
   "metadata": {},
   "outputs": [],
   "source": []
  }
 ],
 "metadata": {
  "kernelspec": {
   "display_name": "Python 3",
   "language": "python",
   "name": "python3"
  },
  "language_info": {
   "codemirror_mode": {
    "name": "ipython",
    "version": 3
   },
   "file_extension": ".py",
   "mimetype": "text/x-python",
   "name": "python",
   "nbconvert_exporter": "python",
   "pygments_lexer": "ipython3",
   "version": "3.7.6"
  }
 },
 "nbformat": 4,
 "nbformat_minor": 4
}
