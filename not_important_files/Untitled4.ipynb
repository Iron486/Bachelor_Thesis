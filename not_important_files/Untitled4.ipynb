{
 "cells": [
  {
   "cell_type": "code",
   "execution_count": 102,
   "metadata": {},
   "outputs": [
    {
     "data": {
      "text/html": [
       "<div>\n",
       "<style scoped>\n",
       "    .dataframe tbody tr th:only-of-type {\n",
       "        vertical-align: middle;\n",
       "    }\n",
       "\n",
       "    .dataframe tbody tr th {\n",
       "        vertical-align: top;\n",
       "    }\n",
       "\n",
       "    .dataframe thead th {\n",
       "        text-align: right;\n",
       "    }\n",
       "</style>\n",
       "<table border=\"1\" class=\"dataframe\">\n",
       "  <thead>\n",
       "    <tr style=\"text-align: right;\">\n",
       "      <th></th>\n",
       "      <th>#EventID</th>\n",
       "      <th>Time</th>\n",
       "      <th>Latitude</th>\n",
       "      <th>Longitude</th>\n",
       "      <th>Depth/Km</th>\n",
       "      <th>Author</th>\n",
       "      <th>Catalog</th>\n",
       "      <th>Contributor</th>\n",
       "      <th>ContributorID</th>\n",
       "      <th>MagType</th>\n",
       "      <th>Magnitude</th>\n",
       "      <th>MagAuthor</th>\n",
       "      <th>EventLocationName</th>\n",
       "    </tr>\n",
       "  </thead>\n",
       "  <tbody>\n",
       "    <tr>\n",
       "      <th>0</th>\n",
       "      <td>1857689</td>\n",
       "      <td>2008-10-14T02:21:50.850000</td>\n",
       "      <td>42.235</td>\n",
       "      <td>13.515</td>\n",
       "      <td>13.1</td>\n",
       "      <td>BULLETIN-SISPICK</td>\n",
       "      <td>NaN</td>\n",
       "      <td>NaN</td>\n",
       "      <td>NaN</td>\n",
       "      <td>ML</td>\n",
       "      <td>1.6</td>\n",
       "      <td>--</td>\n",
       "      <td>2 km E Rocca di Cambio (AQ)</td>\n",
       "    </tr>\n",
       "    <tr>\n",
       "      <th>1</th>\n",
       "      <td>1861549</td>\n",
       "      <td>2008-10-30T02:16:37.440000</td>\n",
       "      <td>42.323</td>\n",
       "      <td>13.491</td>\n",
       "      <td>8.8</td>\n",
       "      <td>BULLETIN-SISPICK</td>\n",
       "      <td>NaN</td>\n",
       "      <td>NaN</td>\n",
       "      <td>NaN</td>\n",
       "      <td>ML</td>\n",
       "      <td>1.4</td>\n",
       "      <td>--</td>\n",
       "      <td>3 km N Fossa (AQ)</td>\n",
       "    </tr>\n",
       "    <tr>\n",
       "      <th>2</th>\n",
       "      <td>1863429</td>\n",
       "      <td>2008-11-10T01:56:14.140000</td>\n",
       "      <td>42.409</td>\n",
       "      <td>13.539</td>\n",
       "      <td>9.1</td>\n",
       "      <td>BULLETIN-SISPICK</td>\n",
       "      <td>NaN</td>\n",
       "      <td>NaN</td>\n",
       "      <td>NaN</td>\n",
       "      <td>ML</td>\n",
       "      <td>2.0</td>\n",
       "      <td>--</td>\n",
       "      <td>10 km N Poggio Picenze (AQ)</td>\n",
       "    </tr>\n",
       "    <tr>\n",
       "      <th>3</th>\n",
       "      <td>1868139</td>\n",
       "      <td>2008-12-12T18:58:51.600000</td>\n",
       "      <td>42.204</td>\n",
       "      <td>13.387</td>\n",
       "      <td>5.0</td>\n",
       "      <td>BULLETIN-SISPICK</td>\n",
       "      <td>NaN</td>\n",
       "      <td>NaN</td>\n",
       "      <td>NaN</td>\n",
       "      <td>ML</td>\n",
       "      <td>1.9</td>\n",
       "      <td>--</td>\n",
       "      <td>9 km W Rocca di Cambio (AQ)</td>\n",
       "    </tr>\n",
       "    <tr>\n",
       "      <th>4</th>\n",
       "      <td>1868339</td>\n",
       "      <td>2008-12-14T08:16:54.180000</td>\n",
       "      <td>42.356</td>\n",
       "      <td>13.467</td>\n",
       "      <td>9.3</td>\n",
       "      <td>BULLETIN-SISPICK</td>\n",
       "      <td>NaN</td>\n",
       "      <td>NaN</td>\n",
       "      <td>NaN</td>\n",
       "      <td>ML</td>\n",
       "      <td>1.6</td>\n",
       "      <td>--</td>\n",
       "      <td>6 km E L'Aquila (AQ)</td>\n",
       "    </tr>\n",
       "    <tr>\n",
       "      <th>...</th>\n",
       "      <td>...</td>\n",
       "      <td>...</td>\n",
       "      <td>...</td>\n",
       "      <td>...</td>\n",
       "      <td>...</td>\n",
       "      <td>...</td>\n",
       "      <td>...</td>\n",
       "      <td>...</td>\n",
       "      <td>...</td>\n",
       "      <td>...</td>\n",
       "      <td>...</td>\n",
       "      <td>...</td>\n",
       "      <td>...</td>\n",
       "    </tr>\n",
       "    <tr>\n",
       "      <th>9114</th>\n",
       "      <td>2132989</td>\n",
       "      <td>2009-11-19T16:20:21.220000</td>\n",
       "      <td>42.417</td>\n",
       "      <td>13.387</td>\n",
       "      <td>8.7</td>\n",
       "      <td>BULLETIN-SISPICK</td>\n",
       "      <td>NaN</td>\n",
       "      <td>NaN</td>\n",
       "      <td>NaN</td>\n",
       "      <td>ML</td>\n",
       "      <td>2.0</td>\n",
       "      <td>--</td>\n",
       "      <td>7 km N L'Aquila (AQ)</td>\n",
       "    </tr>\n",
       "    <tr>\n",
       "      <th>9115</th>\n",
       "      <td>2132999</td>\n",
       "      <td>2009-11-19T16:21:54.780000</td>\n",
       "      <td>42.410</td>\n",
       "      <td>13.376</td>\n",
       "      <td>10.0</td>\n",
       "      <td>BULLETIN-SISPICK</td>\n",
       "      <td>NaN</td>\n",
       "      <td>NaN</td>\n",
       "      <td>NaN</td>\n",
       "      <td>ML</td>\n",
       "      <td>1.6</td>\n",
       "      <td>--</td>\n",
       "      <td>7 km N L'Aquila (AQ)</td>\n",
       "    </tr>\n",
       "    <tr>\n",
       "      <th>9116</th>\n",
       "      <td>2133549</td>\n",
       "      <td>2009-11-20T22:45:50.530000</td>\n",
       "      <td>42.486</td>\n",
       "      <td>13.362</td>\n",
       "      <td>10.8</td>\n",
       "      <td>BULLETIN-SISPICK</td>\n",
       "      <td>NaN</td>\n",
       "      <td>NaN</td>\n",
       "      <td>NaN</td>\n",
       "      <td>ML</td>\n",
       "      <td>1.6</td>\n",
       "      <td>--</td>\n",
       "      <td>6 km SE Capitignano (AQ)</td>\n",
       "    </tr>\n",
       "    <tr>\n",
       "      <th>9117</th>\n",
       "      <td>2133719</td>\n",
       "      <td>2009-11-21T08:34:39.570000</td>\n",
       "      <td>42.471</td>\n",
       "      <td>13.356</td>\n",
       "      <td>16.1</td>\n",
       "      <td>BULLETIN-SISPICK</td>\n",
       "      <td>NaN</td>\n",
       "      <td>NaN</td>\n",
       "      <td>NaN</td>\n",
       "      <td>ML</td>\n",
       "      <td>1.4</td>\n",
       "      <td>--</td>\n",
       "      <td>6 km NE Pizzoli (AQ)</td>\n",
       "    </tr>\n",
       "    <tr>\n",
       "      <th>9118</th>\n",
       "      <td>2133879</td>\n",
       "      <td>2009-11-21T21:34:34.820000</td>\n",
       "      <td>42.299</td>\n",
       "      <td>13.555</td>\n",
       "      <td>8.1</td>\n",
       "      <td>BULLETIN-SISPICK</td>\n",
       "      <td>NaN</td>\n",
       "      <td>NaN</td>\n",
       "      <td>NaN</td>\n",
       "      <td>Md</td>\n",
       "      <td>1.6</td>\n",
       "      <td>--</td>\n",
       "      <td>1 km NW San Demetrio ne' Vestini (AQ)</td>\n",
       "    </tr>\n",
       "  </tbody>\n",
       "</table>\n",
       "<p>9119 rows × 13 columns</p>\n",
       "</div>"
      ],
      "text/plain": [
       "      #EventID                        Time  Latitude  Longitude  Depth/Km  \\\n",
       "0      1857689  2008-10-14T02:21:50.850000    42.235     13.515      13.1   \n",
       "1      1861549  2008-10-30T02:16:37.440000    42.323     13.491       8.8   \n",
       "2      1863429  2008-11-10T01:56:14.140000    42.409     13.539       9.1   \n",
       "3      1868139  2008-12-12T18:58:51.600000    42.204     13.387       5.0   \n",
       "4      1868339  2008-12-14T08:16:54.180000    42.356     13.467       9.3   \n",
       "...        ...                         ...       ...        ...       ...   \n",
       "9114   2132989  2009-11-19T16:20:21.220000    42.417     13.387       8.7   \n",
       "9115   2132999  2009-11-19T16:21:54.780000    42.410     13.376      10.0   \n",
       "9116   2133549  2009-11-20T22:45:50.530000    42.486     13.362      10.8   \n",
       "9117   2133719  2009-11-21T08:34:39.570000    42.471     13.356      16.1   \n",
       "9118   2133879  2009-11-21T21:34:34.820000    42.299     13.555       8.1   \n",
       "\n",
       "                Author  Catalog  Contributor  ContributorID MagType  \\\n",
       "0     BULLETIN-SISPICK      NaN          NaN            NaN      ML   \n",
       "1     BULLETIN-SISPICK      NaN          NaN            NaN      ML   \n",
       "2     BULLETIN-SISPICK      NaN          NaN            NaN      ML   \n",
       "3     BULLETIN-SISPICK      NaN          NaN            NaN      ML   \n",
       "4     BULLETIN-SISPICK      NaN          NaN            NaN      ML   \n",
       "...                ...      ...          ...            ...     ...   \n",
       "9114  BULLETIN-SISPICK      NaN          NaN            NaN      ML   \n",
       "9115  BULLETIN-SISPICK      NaN          NaN            NaN      ML   \n",
       "9116  BULLETIN-SISPICK      NaN          NaN            NaN      ML   \n",
       "9117  BULLETIN-SISPICK      NaN          NaN            NaN      ML   \n",
       "9118  BULLETIN-SISPICK      NaN          NaN            NaN      Md   \n",
       "\n",
       "      Magnitude MagAuthor                      EventLocationName  \n",
       "0           1.6        --            2 km E Rocca di Cambio (AQ)  \n",
       "1           1.4        --                      3 km N Fossa (AQ)  \n",
       "2           2.0        --            10 km N Poggio Picenze (AQ)  \n",
       "3           1.9        --            9 km W Rocca di Cambio (AQ)  \n",
       "4           1.6        --                   6 km E L'Aquila (AQ)  \n",
       "...         ...       ...                                    ...  \n",
       "9114        2.0        --                   7 km N L'Aquila (AQ)  \n",
       "9115        1.6        --                   7 km N L'Aquila (AQ)  \n",
       "9116        1.6        --               6 km SE Capitignano (AQ)  \n",
       "9117        1.4        --                   6 km NE Pizzoli (AQ)  \n",
       "9118        1.6        --  1 km NW San Demetrio ne' Vestini (AQ)  \n",
       "\n",
       "[9119 rows x 13 columns]"
      ]
     },
     "execution_count": 102,
     "metadata": {},
     "output_type": "execute_result"
    }
   ],
   "source": [
    "import numpy as np\n",
    "import pandas as pd\n",
    "import matplotlib.pyplot as plt\n",
    "import seaborn as sns\n",
    "import datetime\n",
    "import warnings\n",
    "warnings.simplefilter(action='ignore', category=FutureWarning)\n",
    "sns.set(style=\"darkgrid\")\n",
    "a=pd.read_csv(\"C:\\\\Users\\Ogeid99\\Desktop\\DS\\excel\\catalogo_l'aquila.txt\",sep='|')\n",
    "a"
   ]
  },
  {
   "cell_type": "code",
   "execution_count": null,
   "metadata": {},
   "outputs": [],
   "source": []
  },
  {
   "cell_type": "code",
   "execution_count": 105,
   "metadata": {
    "scrolled": true
   },
   "outputs": [
    {
     "data": {
      "text/plain": [
       "(0.7, 10000)"
      ]
     },
     "execution_count": 105,
     "metadata": {},
     "output_type": "execute_result"
    },
    {
     "data": {
      "image/png": "[encoded data removed]",
      "text/plain": [
       "<Figure size 432x288 with 1 Axes>"
      ]
     },
     "metadata": {},
     "output_type": "display_data"
    }
   ],
   "source": [
    "import math\n",
    "binning=0.2\n",
    "Mmin=1.4\n",
    "#evaluation of maximum likelihood B^\n",
    "magnitude=a['Magnitude']\n",
    "b=math.log10(math.exp(1)/(np.mean(magnitude)-(Mmin-binning/2)))\n",
    "#b=math.log(1/(np.mean(magnitude)-(Mmin-binning/2))(math.log(10)) according to 'a non robust method to estimate the b value'\n",
    "#plot Gutemberg-Richter\n",
    "bin_magnitude=pd.Series(np.array(np.arange(np.min(magnitude),np.max(magnitude)+0.2,0.2)))\n",
    "number_of_earthquakes= pd.Series(np.array([np.count_nonzero((magnitude >= i ) & (magnitude <= i+0.2))\n",
    "                                           for i in bin_magnitude]))\n",
    "bin_magnitude=np.add(bin_magnitude,0.1)\n",
    "df=pd.concat([bin_magnitude,number_of_earthquakes],axis=1)\n",
    "df.columns=['bin_magnitude','number_of_earthquakes']\n",
    "\n",
    "plot=sns.scatterplot(x='bin_magnitude',y='number_of_earthquakes',data=df)\n",
    "plt.yscale('log')# an alternative:  plot.set(yscale=\"log\")\n",
    "plt.ylim((0.7, 10000)) # DO NOT put 0 or negative values 'cause there is a log scale\n"
   ]
  },
  {
   "cell_type": "code",
   "execution_count": 97,
   "metadata": {},
   "outputs": [
    {
     "data": {
      "text/plain": [
       "[<matplotlib.lines.Line2D at 0x1fd35d31248>]"
      ]
     },
     "execution_count": 97,
     "metadata": {},
     "output_type": "execute_result"
    },
    {
     "data": {
      "image/png": "[encoded data removed]",
      "text/plain": [
       "<Figure size 432x288 with 1 Axes>"
      ]
     },
     "metadata": {},
     "output_type": "display_data"
    }
   ],
   "source": [
    "#remember to see a values on zmap\n",
    "a=5.175\n",
    "Gutemberg_Richter=np.power(10,5.175-bin_magnitude) #here you can consider b or not\n",
    "plot=sns.scatterplot(x='bin_magnitude',y='number_of_earthquakes',data=df)\n",
    "plt.yscale('log')# an alternative:  plot.set(yscale=\"log\")\n",
    "plt.ylim((0.7, 10000)) # DO NOT put 0 or negative values 'cause there is a log scale\n",
    "plt.plot(bin_magnitude,Gutemberg_Richter)"
   ]
  },
  {
   "cell_type": "markdown",
   "metadata": {},
   "source": [
    "exponential_distribution=np.power(10,5.175-np.arange(np.min(magnitude),np.max(magnitude),0.1)) #insert b \n"
   ]
  },
  {
   "cell_type": "code",
   "execution_count": 140,
   "metadata": {
    "scrolled": true
   },
   "outputs": [
    {
     "data": {
      "text/plain": [
       "0     0.108750\n",
       "1     0.096924\n",
       "2     0.086384\n",
       "3     0.076989\n",
       "4     0.068617\n",
       "        ...   \n",
       "93    0.000002\n",
       "94    0.000002\n",
       "95    0.000002\n",
       "96    0.000002\n",
       "97    0.000002\n",
       "Length: 98, dtype: float64"
      ]
     },
     "execution_count": 140,
     "metadata": {},
     "output_type": "execute_result"
    }
   ],
   "source": [
    "new_bin_magnitude=pd.Series(np.array(np.arange(np.min(magnitude),np.max(magnitude)+0.2,0.05)))\n",
    "new_Gutemberg_Richter=np.power(10,5.175-new_bin_magnitude) #here you can consider b or not\n",
    "sumGR=new_Gutemberg_Richter.sum()\n",
    "probabilities=np.divide(new_Gutemberg_Richter,sumGR)\n",
    "probabilities"
   ]
  },
  {
   "cell_type": "code",
   "execution_count": 162,
   "metadata": {},
   "outputs": [
    {
     "data": {
      "text/plain": [
       "0"
      ]
     },
     "execution_count": 162,
     "metadata": {},
     "output_type": "execute_result"
    }
   ],
   "source": [
    "#draw from an exponential distribution\n",
    "#for i in new_bin_magnitude:\n",
    "for i in range(500):\n",
    "    random_sample=np.random.choice(new_bin_magnitude,5000,p=probabilities)\n",
    "    for j in new_bin_magnitude:\n",
    "        counts=np.count_nonzero(i==j)\n",
    "#sns.distplot(random_sample,kde=False)\n",
    "counts\n",
    "#plt.yscale('log')"
   ]
  },
  {
   "cell_type": "code",
   "execution_count": null,
   "metadata": {},
   "outputs": [],
   "source": []
  }
 ],
 "metadata": {
  "kernelspec": {
   "display_name": "Python 3",
   "language": "python",
   "name": "python3"
  },
  "language_info": {
   "codemirror_mode": {
    "name": "ipython",
    "version": 3
   },
   "file_extension": ".py",
   "mimetype": "text/x-python",
   "name": "python",
   "nbconvert_exporter": "python",
   "pygments_lexer": "ipython3",
   "version": "3.7.6"
  }
 },
 "nbformat": 4,
 "nbformat_minor": 4
}
